{
 "cells": [
  {
   "cell_type": "code",
   "execution_count": 1,
   "id": "f219c356-fed5-488e-b484-f3e7a7f2dddb",
   "metadata": {},
   "outputs": [],
   "source": [
    "import pandas as pd\n",
    "import numpy as np"
   ]
  },
  {
   "cell_type": "code",
   "execution_count": 2,
   "id": "7a06cf43-2827-40af-8d76-27923e1e87bb",
   "metadata": {},
   "outputs": [
    {
     "name": "stdout",
     "output_type": "stream",
     "text": [
      "  Pregant Glucose  BP Skin Insulin   BMI Pedigree age label\n",
      "1       6     148  72   35       0  33.6    0.627  50     1\n",
      "2       1      85  66   29       0  26.6    0.351  31     0\n",
      "3       8     183  64    0       0  23.3    0.672  32     1\n",
      "4       1      89  66   23      94  28.1    0.167  21     0\n",
      "5       0     137  40   35     168  43.1    2.288  33     1\n"
     ]
    },
    {
     "data": {
      "text/plain": [
       "(768, 9)"
      ]
     },
     "execution_count": 2,
     "metadata": {},
     "output_type": "execute_result"
    }
   ],
   "source": [
    "col_names = ['Pregant', 'Glucose', 'BP', 'Skin', 'Insulin', 'BMI', 'Pedigree', 'age', 'label']\n",
    "pima = pd.read_csv(\"diabetes.csv\", header = None, names=col_names)\n",
    "pima = pima.iloc[1:769]\n",
    "print(pima.head())\n",
    "pima.shape\n",
    "\n"
   ]
  },
  {
   "cell_type": "code",
   "execution_count": 3,
   "id": "ae051acd-4110-4a7c-a77e-d53d6763d548",
   "metadata": {},
   "outputs": [],
   "source": [
    "X = pima.drop('label', axis=1)\n",
    "Y = pima['label'] "
   ]
  },
  {
   "cell_type": "code",
   "execution_count": 4,
   "id": "567b20fa-c517-4fb2-a83c-9a3eb3f22d3a",
   "metadata": {},
   "outputs": [],
   "source": [
    "from sklearn.tree import DecisionTreeClassifier\n",
    "from sklearn.preprocessing import StandardScaler\n",
    "from sklearn.pipeline import make_pipeline\n",
    "model = make_pipeline(StandardScaler(), DecisionTreeClassifier())"
   ]
  },
  {
   "cell_type": "code",
   "execution_count": 5,
   "id": "f2470a6a-5c58-465f-a3d0-6858828ae047",
   "metadata": {},
   "outputs": [],
   "source": [
    "from sklearn.model_selection import cross_val_score, KFold\n",
    "kf = KFold(n_splits=3, shuffle=True, random_state=42)\n"
   ]
  },
  {
   "cell_type": "code",
   "execution_count": 6,
   "id": "304c0f55-8513-485a-abe5-34e6785580ff",
   "metadata": {},
   "outputs": [
    {
     "name": "stdout",
     "output_type": "stream",
     "text": [
      "Cross-validation accuracy scores: [0.703125   0.69921875 0.69921875]\n",
      "Mean accuracy: 0.7005208333333334\n",
      "Standard deviation: 0.0018414239093399675\n"
     ]
    }
   ],
   "source": [
    "from sklearn.model_selection import cross_val_score\n",
    "scores = cross_val_score(model, X, Y, cv=kf, scoring='accuracy')\n",
    "print(\"Cross-validation accuracy scores:\", scores)\n",
    "print(\"Mean accuracy:\", scores.mean())\n",
    "print(\"Standard deviation:\", scores.std())"
   ]
  },
  {
   "cell_type": "code",
   "execution_count": null,
   "id": "8fef9756-8430-4b51-8fbe-e6d739adc704",
   "metadata": {},
   "outputs": [],
   "source": []
  },
  {
   "cell_type": "code",
   "execution_count": null,
   "id": "2661786c-bfa8-4ab0-89a9-162a2fdae824",
   "metadata": {},
   "outputs": [],
   "source": []
  }
 ],
 "metadata": {
  "kernelspec": {
   "display_name": "Python 3 (ipykernel)",
   "language": "python",
   "name": "python3"
  },
  "language_info": {
   "codemirror_mode": {
    "name": "ipython",
    "version": 3
   },
   "file_extension": ".py",
   "mimetype": "text/x-python",
   "name": "python",
   "nbconvert_exporter": "python",
   "pygments_lexer": "ipython3",
   "version": "3.11.2"
  }
 },
 "nbformat": 4,
 "nbformat_minor": 5
}
